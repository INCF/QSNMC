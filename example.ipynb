{
 "metadata": {
  "name": "",
  "signature": "sha256:6c9623f388ffd5bca4b6bd5dd4cc1a670cd0e5b5771fd593717619bcf51734c0"
 },
 "nbformat": 3,
 "nbformat_minor": 0,
 "worksheets": [
  {
   "cells": [
    {
     "cell_type": "code",
     "collapsed": false,
     "input": [
      "from QSNMC.tests import tests"
     ],
     "language": "python",
     "metadata": {},
     "outputs": [
      {
       "output_type": "stream",
       "stream": "stdout",
       "text": [
        "Loading training data from pickled files...\n"
       ]
      }
     ],
     "prompt_number": 1
    },
    {
     "cell_type": "code",
     "collapsed": false,
     "input": [
      "from QSNMC.models import models"
     ],
     "language": "python",
     "metadata": {},
     "outputs": [],
     "prompt_number": 2
    },
    {
     "cell_type": "code",
     "collapsed": false,
     "input": [
      "print tests"
     ],
     "language": "python",
     "metadata": {},
     "outputs": [
      {
       "output_type": "stream",
       "stream": "stdout",
       "text": [
        "[Test on Training Data (SpikeTrainComparisonTest)]\n"
       ]
      }
     ],
     "prompt_number": 3
    },
    {
     "cell_type": "code",
     "collapsed": false,
     "input": [
      "print models"
     ],
     "language": "python",
     "metadata": {},
     "outputs": [
      {
       "output_type": "stream",
       "stream": "stdout",
       "text": [
        "[LIF Example (LIFModel)]\n"
       ]
      }
     ],
     "prompt_number": 4
    },
    {
     "cell_type": "code",
     "collapsed": false,
     "input": [
      "for model in models:\n",
      "    print \"Model: %s\" % model\n",
      "    for test in tests:\n",
      "        print \"Test: %s\" % test\n",
      "        score = test.judge(model,deep_error=True)\n",
      "        score.summarize()\n",
      "        print \"\\r\""
     ],
     "language": "python",
     "metadata": {},
     "outputs": [
      {
       "output_type": "stream",
       "stream": "stdout",
       "text": [
        "Model: LIF Example (LIFModel)\n",
        "Test: Test on Training Data (SpikeTrainComparisonTest)\n",
        "Simulating current injection...\n",
        "Computing Md* - Rectangular window (1.0 ms precision)..."
       ]
      },
      {
       "output_type": "stream",
       "stream": "stdout",
       "text": [
        "\n",
        "Md* = 0.9576"
       ]
      },
      {
       "output_type": "stream",
       "stream": "stdout",
       "text": [
        "\n",
        "=== Model LIF Example (LIFModel) achieved score 95.8% on test 'Test on Training Data (SpikeTrainComparisonTest)'. ===\n",
        "\r\n"
       ]
      }
     ],
     "prompt_number": 5
    }
   ],
   "metadata": {}
  }
 ]
}